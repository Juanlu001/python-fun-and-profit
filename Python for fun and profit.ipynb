{
 "cells": [
  {
   "cell_type": "markdown",
   "metadata": {
    "slideshow": {
     "slide_type": "slide"
    }
   },
   "source": [
    "# Python _for fun and profit_\n",
    "\n",
    "![Python España](static/python_es.png)\n",
    "\n",
    "###### Juan Luis Cano Rodríguez\n",
    "###### Madrid, 2016-05-13"
   ]
  },
  {
   "cell_type": "markdown",
   "metadata": {
    "slideshow": {
     "slide_type": "slide"
    }
   },
   "source": [
    "## Outline\n",
    "\n",
    "* Introduction\n",
    "* Python for Data Science\n",
    "* Python for IT\n",
    "* General advice\n",
    "* Conclusions"
   ]
  },
  {
   "cell_type": "markdown",
   "metadata": {
    "slideshow": {
     "slide_type": "notes"
    }
   },
   "source": [
    "## Outline\n",
    "\n",
    "* Introduction\n",
    "* Python for Data Science\n",
    "\n",
    "  * Interactive computation with Jupyter\n",
    "  * Numerical analysis with NumPy, SciPy\n",
    "  * Visualization with matplotlib and others\n",
    "  * Data manipulation with pandas\n",
    "  * Machine Learning with scikit-learn\n",
    "\n",
    "* Python for IT\n",
    "\n",
    "  * Data gathering with Requests and Scrapy\n",
    "  * Information extraction with lxml, BeautifulSoup and others\n",
    "  * User interfaces with PyQt, xlwings and others\n",
    "  * Other: memcached, SOA\n",
    "\n",
    "* General advice\n",
    "\n",
    "  * Python packaging\n",
    "  * The future of Python\n",
    "\n",
    "* Conclusions"
   ]
  },
  {
   "cell_type": "markdown",
   "metadata": {
    "slideshow": {
     "slide_type": "slide"
    }
   },
   "source": [
    "## `>>> print(self)`\n",
    "\n",
    "<img src=\"static/pyconse.jpg\" width=\"350px\" style=\"float: right\" />\n",
    "\n",
    "* _Almost_ **Aerospace Engineer**\n",
    "* Quant Developer for BBVA at Indizen\n",
    "* Writer and furious tweeter at **Pybonacci**\n",
    "* Chair ~~and BDFL~~ of **Python España** non-profit\n",
    "* Co-creator and charismatic leader of **AeroPython** (\\*not the Lorena Barba course)\n",
    "* _When time permits (rare) [writes some open source Python code](https://github.com/Juanlu001/)_"
   ]
  },
  {
   "cell_type": "markdown",
   "metadata": {
    "slideshow": {
     "slide_type": "slide"
    }
   },
   "source": [
    "## General advice\n",
    "\n",
    "### Python packaging\n",
    "\n",
    "Remember this picture? It's _so_ 2012!\n",
    "\n",
    "![Comrades](static/python_comrades.png)"
   ]
  },
  {
   "cell_type": "markdown",
   "metadata": {
    "slideshow": {
     "slide_type": "subslide"
    }
   },
   "source": [
    "And by the way, a bit too optimistic:\n",
    "\n",
    "* `setuptools` is back\n",
    "* `easy_install` is not gone\n",
    "\n",
    "![pip](static/pip_distribute.png)"
   ]
  },
  {
   "cell_type": "code",
   "execution_count": null,
   "metadata": {
    "collapsed": true
   },
   "outputs": [],
   "source": []
  }
 ],
 "metadata": {
  "celltoolbar": "Slideshow",
  "kernelspec": {
   "display_name": "Python 3",
   "language": "python",
   "name": "python3"
  },
  "language_info": {
   "codemirror_mode": {
    "name": "ipython",
    "version": 3
   },
   "file_extension": ".py",
   "mimetype": "text/x-python",
   "name": "python",
   "nbconvert_exporter": "python",
   "pygments_lexer": "ipython3",
   "version": "3.5.1"
  }
 },
 "nbformat": 4,
 "nbformat_minor": 0
}
